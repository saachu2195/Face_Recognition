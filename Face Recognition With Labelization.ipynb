{
 "cells": [
  {
   "cell_type": "code",
   "execution_count": 26,
   "metadata": {},
   "outputs": [
    {
     "name": "stdout",
     "output_type": "stream",
     "text": [
      "4.1.0\n"
     ]
    }
   ],
   "source": [
    "import os\n",
    "from PIL import Image\n",
    "import numpy as np\n",
    "import cv2"
   ]
  },
  {
   "cell_type": "code",
   "execution_count": 2,
   "metadata": {},
   "outputs": [],
   "source": [
    "path = 'C:/Users/square/Desktop/Face_Recognition_Detector/dataset'\n",
    "recognizer = cv2.face"
   ]
  },
  {
   "cell_type": "code",
   "execution_count": 4,
   "metadata": {},
   "outputs": [
    {
     "name": "stdout",
     "output_type": "stream",
     "text": [
      "['C:/Users/square/Desktop/Face_Recognition_Detector/dataset\\\\users.1.0.jpg', 'C:/Users/square/Desktop/Face_Recognition_Detector/dataset\\\\users.1.1.jpg', 'C:/Users/square/Desktop/Face_Recognition_Detector/dataset\\\\users.1.10.jpg', 'C:/Users/square/Desktop/Face_Recognition_Detector/dataset\\\\users.1.11.jpg', 'C:/Users/square/Desktop/Face_Recognition_Detector/dataset\\\\users.1.12.jpg', 'C:/Users/square/Desktop/Face_Recognition_Detector/dataset\\\\users.1.13.jpg', 'C:/Users/square/Desktop/Face_Recognition_Detector/dataset\\\\users.1.14.jpg', 'C:/Users/square/Desktop/Face_Recognition_Detector/dataset\\\\users.1.15.jpg', 'C:/Users/square/Desktop/Face_Recognition_Detector/dataset\\\\users.1.16.jpg', 'C:/Users/square/Desktop/Face_Recognition_Detector/dataset\\\\users.1.2.jpg', 'C:/Users/square/Desktop/Face_Recognition_Detector/dataset\\\\users.1.3.jpg', 'C:/Users/square/Desktop/Face_Recognition_Detector/dataset\\\\users.1.4.jpg', 'C:/Users/square/Desktop/Face_Recognition_Detector/dataset\\\\users.1.5.jpg', 'C:/Users/square/Desktop/Face_Recognition_Detector/dataset\\\\users.1.6.jpg', 'C:/Users/square/Desktop/Face_Recognition_Detector/dataset\\\\users.1.7.jpg', 'C:/Users/square/Desktop/Face_Recognition_Detector/dataset\\\\users.1.8.jpg', 'C:/Users/square/Desktop/Face_Recognition_Detector/dataset\\\\users.1.9.jpg']\n"
     ]
    }
   ],
   "source": [
    "def getImagesid(path):\n",
    "    imagePaths = [os.path.join(path, f) for f in os.listdir(path)]\n",
    "    print(imagePaths)\n",
    "    faces = []\n",
    "    ids = []\n",
    "    for imagepath in imagePaths:\n",
    "        faceImg = Image.open(imagepath).convert('L')\n",
    "        faceNp = np.array(faceImg)\n",
    "        Id = int(os.path.split(imagepath)[-1].split('.')[1])\n",
    "        faces.append(faceNp)\n",
    "        ids.append(Id)\n",
    "        cv2.imshow(\"training_data\", faceNp)\n",
    "        cv2.waitKey(10)\n",
    "        \n",
    "    return ids, faces\n",
    "\n",
    "faces, ids = getImagesid(path)"
   ]
  },
  {
   "cell_type": "code",
   "execution_count": 5,
   "metadata": {},
   "outputs": [
    {
     "name": "stdout",
     "output_type": "stream",
     "text": [
      "['C:/Users/square/Desktop/Face_Recognition_Detector/dataset\\\\users.1.0.jpg', 'C:/Users/square/Desktop/Face_Recognition_Detector/dataset\\\\users.1.1.jpg', 'C:/Users/square/Desktop/Face_Recognition_Detector/dataset\\\\users.1.10.jpg', 'C:/Users/square/Desktop/Face_Recognition_Detector/dataset\\\\users.1.11.jpg', 'C:/Users/square/Desktop/Face_Recognition_Detector/dataset\\\\users.1.12.jpg', 'C:/Users/square/Desktop/Face_Recognition_Detector/dataset\\\\users.1.13.jpg', 'C:/Users/square/Desktop/Face_Recognition_Detector/dataset\\\\users.1.14.jpg', 'C:/Users/square/Desktop/Face_Recognition_Detector/dataset\\\\users.1.15.jpg', 'C:/Users/square/Desktop/Face_Recognition_Detector/dataset\\\\users.1.16.jpg', 'C:/Users/square/Desktop/Face_Recognition_Detector/dataset\\\\users.1.2.jpg', 'C:/Users/square/Desktop/Face_Recognition_Detector/dataset\\\\users.1.3.jpg', 'C:/Users/square/Desktop/Face_Recognition_Detector/dataset\\\\users.1.4.jpg', 'C:/Users/square/Desktop/Face_Recognition_Detector/dataset\\\\users.1.5.jpg', 'C:/Users/square/Desktop/Face_Recognition_Detector/dataset\\\\users.1.6.jpg', 'C:/Users/square/Desktop/Face_Recognition_Detector/dataset\\\\users.1.7.jpg', 'C:/Users/square/Desktop/Face_Recognition_Detector/dataset\\\\users.1.8.jpg', 'C:/Users/square/Desktop/Face_Recognition_Detector/dataset\\\\users.1.9.jpg']\n"
     ]
    },
    {
     "data": {
      "text/plain": [
       "([1, 1, 1, 1, 1, 1, 1, 1, 1, 1, 1, 1, 1, 1, 1, 1, 1],\n",
       " [array([[ 92, 100,  93, ...,  97,  93,  97],\n",
       "         [100,  90, 100, ...,  92, 101,  90],\n",
       "         [ 95,  98, 167, ..., 164, 159,  97],\n",
       "         ...,\n",
       "         [ 97,  91, 146, ..., 139, 132,  94],\n",
       "         [ 96,  98, 142, ..., 135, 144, 100],\n",
       "         [ 95,  92,  98, ...,  93,  95,  96]], dtype=uint8),\n",
       "  array([[ 97,  94,  96, ...,  96,  96,  94],\n",
       "         [ 97,  96,  93, ...,  95,  96,  96],\n",
       "         [ 94,  92,  76, ...,  75,  81,  91],\n",
       "         ...,\n",
       "         [ 97,  95,  64, ...,  71,  76,  95],\n",
       "         [ 94,  91,  67, ...,  79,  79,  93],\n",
       "         [ 96,  99,  94, ...,  96,  96, 101]], dtype=uint8),\n",
       "  array([[ 95,  94,  96, ...,  94,  95,  94],\n",
       "         [ 94,  97,  94, ...,  98,  94,  98],\n",
       "         [ 98,  95, 145, ...,  47,  50,  93],\n",
       "         ...,\n",
       "         [ 96,  98,  30, ...,  84,  82,  96],\n",
       "         [ 92,  95,  32, ...,  82,  83,  94],\n",
       "         [ 99,  98,  95, ...,  97,  94,  98]], dtype=uint8),\n",
       "  array([[ 96,  96,  98, ...,  97,  98,  93],\n",
       "         [ 93,  97,  92, ...,  97,  91, 101],\n",
       "         [ 97,  94, 128, ...,  41,  45,  94],\n",
       "         ...,\n",
       "         [ 92,  96,  34, ...,  79,  81,  97],\n",
       "         [ 95,  99,  39, ...,  83,  83,  94],\n",
       "         [ 94,  94,  95, ...,  95,  93,  99]], dtype=uint8),\n",
       "  array([[ 98,  93,  96, ...,  94,  99,  92],\n",
       "         [ 93,  96,  95, ...,  97,  91,  99],\n",
       "         [ 97,  98, 130, ...,  44,  43,  95],\n",
       "         ...,\n",
       "         [ 95,  96,  59, ...,  54,  50,  95],\n",
       "         [ 95,  96,  64, ...,  58,  56,  95],\n",
       "         [ 98,  93,  92, ...,  97,  93,  97]], dtype=uint8),\n",
       "  array([[ 93,  98,  97, ...,  96,  97,  93],\n",
       "         [ 96,  95,  92, ...,  98,  91, 101],\n",
       "         [ 94,  97, 132, ...,  44,  45,  94],\n",
       "         ...,\n",
       "         [ 93,  97,  35, ...,  76,  78,  95],\n",
       "         [ 97,  97,  36, ...,  80,  81,  93],\n",
       "         [ 93,  95,  95, ...,  94,  94,  99]], dtype=uint8),\n",
       "  array([[ 95,  96,  92, ...,  95,  98,  94],\n",
       "         [ 96,  94,  99, ...,  98,  92, 100],\n",
       "         [ 93,  98, 126, ...,  44,  45,  94],\n",
       "         ...,\n",
       "         [ 95,  94,  43, ...,  76,  79,  95],\n",
       "         [ 97,  98,  40, ...,  78,  81,  95],\n",
       "         [ 94,  92,  97, ...,  97,  95,  98]], dtype=uint8),\n",
       "  array([[ 96,  99,  93, ...,  96,  97,  94],\n",
       "         [ 97,  90,  97, ...,  98,  92,  99],\n",
       "         [ 94,  99, 178, ...,  45,  46,  94],\n",
       "         ...,\n",
       "         [ 96,  95,  39, ...,  76,  77,  94],\n",
       "         [ 98,  94,  36, ...,  84,  85,  96],\n",
       "         [ 95,  96,  95, ...,  94,  93,  97]], dtype=uint8),\n",
       "  array([[ 94,  98,  93, ...,  96,  96,  93],\n",
       "         [ 96,  94,  99, ...,  98,  91, 100],\n",
       "         [ 96,  96, 171, ...,  44,  46,  95],\n",
       "         ...,\n",
       "         [ 97,  95,  65, ...,  71,  73,  94],\n",
       "         [ 96,  92,  65, ...,  81,  80,  95],\n",
       "         [ 95,  98,  96, ...,  95,  94,  98]], dtype=uint8),\n",
       "  array([[ 97,  94,  98, ...,  97,  97,  95],\n",
       "         [ 95,  94,  94, ...,  95,  92,  95],\n",
       "         [ 97,  93,  73, ..., 163, 171,  97],\n",
       "         ...,\n",
       "         [ 95,  97,  61, ...,  93,  86,  95],\n",
       "         [ 96,  94,  67, ...,  70,  77,  93],\n",
       "         [ 96,  99,  92, ...,  95,  93,  96]], dtype=uint8),\n",
       "  array([[ 96,  94,  97, ...,  97,  94,  97],\n",
       "         [ 96,  96,  94, ...,  92, 100,  91],\n",
       "         [ 98,  94,  72, ..., 160, 159,  95],\n",
       "         ...,\n",
       "         [ 95,  94,  63, ...,  92,  82,  95],\n",
       "         [ 98,  94,  66, ...,  77,  79,  93],\n",
       "         [ 93,  98,  94, ...,  95,  94,  99]], dtype=uint8),\n",
       "  array([[ 96,  94,  97, ...,  97,  94,  97],\n",
       "         [ 96,  96,  93, ...,  93,  94,  93],\n",
       "         [ 98,  95,  72, ...,  94, 158,  93],\n",
       "         ...,\n",
       "         [ 95,  93,  59, ...,  77,  80,  94],\n",
       "         [ 98,  94,  66, ...,  92,  92,  97],\n",
       "         [ 93,  97,  92, ...,  92,  96,  97]], dtype=uint8),\n",
       "  array([[ 94,  96,  94, ...,  96,  96,  95],\n",
       "         [ 97,  98,  94, ...,  95,  93,  99],\n",
       "         [ 94,  92,  81, ...,  60,  66,  91],\n",
       "         ...,\n",
       "         [ 94,  97,  45, ..., 171, 159,  99],\n",
       "         [ 98,  94,  47, ...,  60,  61,  94],\n",
       "         [ 92,  96,  96, ...,  96,  96,  94]], dtype=uint8),\n",
       "  array([[95, 93, 98, ..., 94, 97, 94],\n",
       "         [99, 96, 95, ..., 97, 94, 99],\n",
       "         [95, 94, 84, ..., 46, 51, 94],\n",
       "         ...,\n",
       "         [95, 95, 56, ..., 13, 16, 97],\n",
       "         [97, 93, 61, ..., 18, 19, 93],\n",
       "         [93, 99, 92, ..., 95, 93, 98]], dtype=uint8),\n",
       "  array([[ 96,  97,  92, ...,  96,  97,  94],\n",
       "         [ 95,  96,  96, ...,  97,  91, 100],\n",
       "         [ 94,  95, 175, ...,  43,  46,  95],\n",
       "         ...,\n",
       "         [ 96,  97,  37, ...,  64,  78,  96],\n",
       "         [ 96,  93,  34, ...,  33,  46,  97],\n",
       "         [ 97,  94,  96, ...,  94,  98,  93]], dtype=uint8),\n",
       "  array([[ 96,  95,  95, ...,  95,  97,  94],\n",
       "         [ 97,  93,  96, ...,  97,  92, 101],\n",
       "         [ 95,  96, 160, ...,  44,  46,  94],\n",
       "         ...,\n",
       "         [ 93,  98,  49, ...,  79, 113,  97],\n",
       "         [ 99,  93,  49, ...,  82, 110,  97],\n",
       "         [ 93,  97,  98, ...,  94,  97,  93]], dtype=uint8),\n",
       "  array([[ 93,  98,  93, ...,  96,  98,  95],\n",
       "         [ 96,  96,  95, ...,  98,  91, 100],\n",
       "         [ 91,  96, 161, ...,  41,  45,  94],\n",
       "         ...,\n",
       "         [ 93,  98,  53, ...,  80, 112,  96],\n",
       "         [ 98,  91,  45, ...,  81, 108,  98],\n",
       "         [ 92, 102,  94, ...,  92,  99,  93]], dtype=uint8)])"
      ]
     },
     "execution_count": 5,
     "metadata": {},
     "output_type": "execute_result"
    }
   ],
   "source": [
    "getImagesid(path)"
   ]
  },
  {
   "cell_type": "code",
   "execution_count": 7,
   "metadata": {},
   "outputs": [],
   "source": [
    "import cv2"
   ]
  },
  {
   "cell_type": "code",
   "execution_count": 8,
   "metadata": {},
   "outputs": [
    {
     "data": {
      "text/plain": [
       "'4.1.0'"
      ]
     },
     "execution_count": 8,
     "metadata": {},
     "output_type": "execute_result"
    }
   ],
   "source": [
    "cv2.__version__"
   ]
  },
  {
   "cell_type": "code",
   "execution_count": 19,
   "metadata": {},
   "outputs": [],
   "source": [
    "import cv2"
   ]
  },
  {
   "cell_type": "code",
   "execution_count": 25,
   "metadata": {},
   "outputs": [
    {
     "data": {
      "text/plain": [
       "'4.1.0'"
      ]
     },
     "execution_count": 25,
     "metadata": {},
     "output_type": "execute_result"
    }
   ],
   "source": [
    "cv2.__version__"
   ]
  },
  {
   "cell_type": "code",
   "execution_count": 24,
   "metadata": {},
   "outputs": [],
   "source": [
    "import cv2"
   ]
  },
  {
   "cell_type": "code",
   "execution_count": 22,
   "metadata": {},
   "outputs": [
    {
     "name": "stdout",
     "output_type": "stream",
     "text": [
      "Requirement already satisfied: opencv-contrib-python==3.4.3.18 in c:\\users\\square\\appdata\\roaming\\python\\python37\\site-packages (3.4.3.18)\n",
      "Requirement already satisfied: numpy>=1.14.5 in c:\\users\\square\\anaconda3\\lib\\site-packages (from opencv-contrib-python==3.4.3.18) (1.16.2)\n"
     ]
    }
   ],
   "source": [
    "!pip install opencv-contrib-python==3.4.3.18\n"
   ]
  },
  {
   "cell_type": "code",
   "execution_count": null,
   "metadata": {},
   "outputs": [],
   "source": []
  }
 ],
 "metadata": {
  "kernelspec": {
   "display_name": "Python 3",
   "language": "python",
   "name": "python3"
  },
  "language_info": {
   "codemirror_mode": {
    "name": "ipython",
    "version": 3
   },
   "file_extension": ".py",
   "mimetype": "text/x-python",
   "name": "python",
   "nbconvert_exporter": "python",
   "pygments_lexer": "ipython3",
   "version": "3.7.3"
  }
 },
 "nbformat": 4,
 "nbformat_minor": 2
}
